{
 "cells": [
  {
   "cell_type": "code",
   "execution_count": 1,
   "metadata": {},
   "outputs": [],
   "source": [
    "import numpy as np\n",
    "import pandas as pd\n",
    "from scipy import sparse\n",
    "\n",
    "from collections import defaultdict\n",
    "\n",
    "import matplotlib.pyplot as plt\n",
    "%matplotlib inline"
   ]
  },
  {
   "cell_type": "code",
   "execution_count": 2,
   "metadata": {},
   "outputs": [],
   "source": [
    "edges = pd.read_table('trust_data.txt', sep=' ').values[:-1, 1:3].astype(int)\n",
    "edges = set([(a, b) for [a, b] in edges.tolist()])\n",
    "edge_count = defaultdict(int)\n",
    "for (a, b) in edges:\n",
    "    edge_count[a] += 1\n",
    "    edge_count[b] += 1\n",
    "top_users = np.array(sorted([(a, b) for a, b in edge_count.items()], key=lambda x: -x[1])[:2000])[:, 0].tolist()\n",
    "\n",
    "rankings = pd.DataFrame(pd.read_table('ratings_data.txt', sep=' ').values[:-1, :3].astype(int), columns=['user', 'film', 'rating'])\n",
    "top_films = rankings[rankings['user'].isin(top_users)].groupby('film').size().sort_values(ascending=False)[:3000].index.tolist()\n",
    "\n",
    "rankings = rankings[(rankings['film'].isin(top_films)) & (rankings['user'].isin(top_users))]\n",
    "rankings[['user', 'film']] -= 1\n",
    "\n",
    "dict_user = {a: i for i, a in enumerate(set(rankings['user']))}\n",
    "dict_film = {a: i for i, a in enumerate(set(rankings['film']))}\n",
    "rankings['user'] = rankings['user'].apply(lambda x: dict_user[x])\n",
    "rankings['film'] = rankings['film'].apply(lambda x: dict_film[x])\n",
    "\n",
    "sp_rankings = sparse.csr_matrix((rankings['rating'], (rankings['user'], rankings['film'])))"
   ]
  },
  {
   "cell_type": "markdown",
   "metadata": {},
   "source": [
    "# Baselines"
   ]
  },
  {
   "cell_type": "code",
   "execution_count": 163,
   "metadata": {},
   "outputs": [],
   "source": [
    "X_full = sp_rankings.todense()\n",
    "origA = X_full.copy()\n",
    "\n",
    "sparseness = .45\n",
    "A_sp = X_full.copy()\n",
    "for i in range(A.shape[0]):\n",
    "    for j in range(A.shape[1]):\n",
    "        if np.random.rand() < sparseness:\n",
    "            A_sp[i,j] = 0."
   ]
  },
  {
   "cell_type": "code",
   "execution_count": 164,
   "metadata": {},
   "outputs": [
    {
     "data": {
      "text/plain": [
       "<matplotlib.image.AxesImage at 0x7f0610c4dc18>"
      ]
     },
     "execution_count": 164,
     "metadata": {},
     "output_type": "execute_result"
    },
    {
     "data": {
      "image/png": "[encoded data removed]",
      "text/plain": [
       "<Figure size 720x1440 with 2 Axes>"
      ]
     },
     "metadata": {
      "needs_background": "light"
     },
     "output_type": "display_data"
    }
   ],
   "source": [
    "fig, ax = plt.subplots(figsize=(10, 20), nrows = 1, ncols = 2)\n",
    "ax[0].spy(origA)\n",
    "ax[1].spy(A_sp)"
   ]
  },
  {
   "cell_type": "code",
   "execution_count": 179,
   "metadata": {},
   "outputs": [],
   "source": [
    "import numpy as np\n",
    "import matplotlib.pyplot as plot\n",
    "import matplotlib.cm as cm\n",
    "import scipy.sparse as sp\n",
    "import scipy.linalg as sl\n",
    "\n",
    "\n",
    "def lowrank_SVD(input_matrix, approx=50):\n",
    "    U, S, VT = np.linalg.svd(A, full_matrices=False)\n",
    "    sh = S.shape[0]\n",
    "    S = np.diag(S)\n",
    "    S[approx:] = 0\n",
    "    S_ = np.zeros((sh, sh))\n",
    "    S_ = S_ + S\n",
    "    A_ = np.zeros((len(U), len(VT)))\n",
    "    for i in range(K):\n",
    "        A_ = U @ S_ @ VT\n",
    "    return A_\n",
    "\n",
    "def PMF(input_matrix, approx=50, iterations=30, learning_rate=.001, regularization_rate=.1):\n",
    "    A = input_matrix\n",
    "    Z = np.asarray(A > 0,dtype=np.int)\n",
    "    A1d = np.ravel(A)\n",
    "    mean = np.mean(A1d)\n",
    "    #Remove DC term (mean), advice from\n",
    "    #http://www.intelligentmining.com/2011/08/08/intro-to-matrix-factorization/\n",
    "    A = A-mean\n",
    "    K = approx\n",
    "    R = itr = iterations\n",
    "    l = learning_rate\n",
    "    b = regularization_rate\n",
    "    N = A.shape[0]\n",
    "    M = A.shape[1]\n",
    "    U = np.random.randn(N,K)\n",
    "    V = np.random.randn(K,M)\n",
    "    #PMF using gradient descent as per paper\n",
    "    #Probabilistic Matrix Factorization\n",
    "    #R. Salakhutdinov, A. Minh\n",
    "    for r in range(R):\n",
    "        for i in range(N):\n",
    "            for j in range(M):\n",
    "                if Z[i,j] > 0:\n",
    "                    e = A[i,j] - np.dot(U[i,:],V[:,j])\n",
    "                    U[i,:] = U[i,:] + l*(e*V[:,j] - b*U[i,:])\n",
    "                    V[:,j] = V[:,j] + l*(e*U[i,:] - b*V[:,j])\n",
    "    A_ = np.dot(U,V)\n",
    "    return A_\n",
    "\n",
    "\n",
    "def get_RMSE(A,A_):\n",
    "    A1d = np.ravel(A)\n",
    "    A_1d = np.ravel(A_)\n",
    "    e = np.mean((A1d-A_1d)**2)\n",
    "    return np.sqrt(e)"
   ]
  },
  {
   "cell_type": "markdown",
   "metadata": {},
   "source": [
    "### Baseline 1 - SVD"
   ]
  },
  {
   "cell_type": "code",
   "execution_count": 186,
   "metadata": {},
   "outputs": [
    {
     "data": {
      "text/plain": [
       "Text(0.5, 1.0, 'RMSE for SVD')"
      ]
     },
     "execution_count": 186,
     "metadata": {},
     "output_type": "execute_result"
    },
    {
     "data": {
      "image/png": "[encoded data removed]",
      "text/plain": [
       "<Figure size 432x288 with 1 Axes>"
      ]
     },
     "metadata": {
      "needs_background": "light"
     },
     "output_type": "display_data"
    }
   ],
   "source": [
    "#Full matrix SVD, low rank approximation\n",
    "approx = K = 100\n",
    "iterations = I = 7\n",
    "\n",
    "# A = X_full.copy()\n",
    "# RMSE_full = []\n",
    "# for K in range(10, 190, 20):\n",
    "#     A_= lowrank_SVD(A, approx=K)\n",
    "#     RMSE_full.append(get_RMSE(origA, A_))\n",
    "\n",
    "\n",
    "#Sparse matrix, regular SVD example, low rank approximation\n",
    "RMSE_sparse = []\n",
    "for K in range(10, 810, 50):\n",
    "    A_sp_tran = lowrank_SVD(A_sp, approx=K)\n",
    "    RMSE_sparse.append(get_RMSE(origA, A_sp_tran))\n",
    "\n",
    "fig, ax = plt.subplots(figsize = (6,4))\n",
    "ax.plot(range(10, 810, 50), np.array(RMSE_sparse), color = 'blue', label = 'trunc')\n",
    "ax.legend()\n",
    "ax.set_xlabel('number of components')\n",
    "ax.set_ylabel('RMSE')\n",
    "ax.set_title('RMSE for SVD')"
   ]
  },
  {
   "cell_type": "markdown",
   "metadata": {},
   "source": [
    "### Baseline 2 - PMF"
   ]
  },
  {
   "cell_type": "code",
   "execution_count": 144,
   "metadata": {},
   "outputs": [
    {
     "data": {
      "text/plain": [
       "Text(0.5, 1.0, 'RMSE for PMF')"
      ]
     },
     "execution_count": 144,
     "metadata": {},
     "output_type": "execute_result"
    },
    {
     "data": {
      "image/png": "[encoded data removed]",
      "text/plain": [
       "<Figure size 432x288 with 1 Axes>"
      ]
     },
     "metadata": {
      "needs_background": "light"
     },
     "output_type": "display_data"
    }
   ],
   "source": [
    "#Keeping learning rate constant for all PMF examples\n",
    "l = 0.001\n",
    "#Sparse matrix, gradient descent example\n",
    "#Save RMSE as tuple of two values, (b,RMSE)\n",
    "PMF_RMSE=[]\n",
    "for b in [2., 50., 300., 1000., 2000]:\n",
    "    A_=PMF(A_sp,approx=n_comp,\n",
    "           iterations=I,\n",
    "           regularization_rate=b,\n",
    "           learning_rate=l)\n",
    "    RMSE = get_RMSE(origA, A_)\n",
    "    PMF_RMSE.append(RMSE)\n",
    "\n",
    "fig, ax = plt.subplots(figsize = (6,4))\n",
    "ax.plot([2., 50., 300., 1000., 2000], PMF_RMSE, color = 'blue', label = 'trunc')\n",
    "ax.legend()\n",
    "ax.set_xlabel('Regularization rate')\n",
    "ax.set_ylabel('RMSE')\n",
    "ax.set_title('RMSE for PMF')"
   ]
  },
  {
   "cell_type": "markdown",
   "metadata": {},
   "source": [
    "fit n_components with the best regularization rate"
   ]
  },
  {
   "cell_type": "code",
   "execution_count": 201,
   "metadata": {},
   "outputs": [
    {
     "data": {
      "text/plain": [
       "Text(0.5, 1.0, 'RMSE for PMF')"
      ]
     },
     "execution_count": 201,
     "metadata": {},
     "output_type": "execute_result"
    },
    {
     "data": {
      "image/png": "[encoded data removed]",
      "text/plain": [
       "<Figure size 432x288 with 1 Axes>"
      ]
     },
     "metadata": {
      "needs_background": "light"
     },
     "output_type": "display_data"
    }
   ],
   "source": [
    "#Keeping learning rate constant for all PMF examples\n",
    "l = 0.001\n",
    "#Sparse matrix, gradient descent example\n",
    "#Save RMSE as tuple of two values, (b,RMSE)\n",
    "PMF_RMSE=[]\n",
    "for b in [300]:\n",
    "    for n_comp in [2, 5, 10, 50, 100]:\n",
    "        print(n_comp)\n",
    "        A_=PMF(A_sp,approx=n_comp,\n",
    "               iterations=I,\n",
    "               regularization_rate=b,\n",
    "               learning_rate=l)\n",
    "        RMSE = get_RMSE(origA, A_)\n",
    "        PMF_RMSE.append(RMSE)\n",
    "\n",
    "fig, ax = plt.subplots(figsize = (6,4))\n",
    "ax.plot([2, 5, 10, 50, 100], PMF_RMSE, color = 'blue', label = 'trunc')\n",
    "ax.legend()\n",
    "ax.set_xlabel('Number of latent factors, Regularization rate = 300')\n",
    "ax.set_ylabel('RMSE')\n",
    "ax.set_title('RMSE for PMF')"
   ]
  },
  {
   "cell_type": "markdown",
   "metadata": {},
   "source": [
    "----------------"
   ]
  }
 ],
 "metadata": {
  "kernelspec": {
   "display_name": "Python 3",
   "language": "python",
   "name": "python3"
  },
  "language_info": {
   "codemirror_mode": {
    "name": "ipython",
    "version": 3
   },
   "file_extension": ".py",
   "mimetype": "text/x-python",
   "name": "python",
   "nbconvert_exporter": "python",
   "pygments_lexer": "ipython3",
   "version": "3.6.4"
  }
 },
 "nbformat": 4,
 "nbformat_minor": 2
}
